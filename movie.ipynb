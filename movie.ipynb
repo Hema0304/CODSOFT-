{
 "cells": [
  {
   "cell_type": "code",
   "execution_count": 1,
   "id": "bde92550",
   "metadata": {},
   "outputs": [
    {
     "name": "stdout",
     "output_type": "stream",
     "text": [
      "Requirement already satisfied: pandas in c:\\users\\sivap\\onedrive\\документы\\codsoft\\movie prediction\\.venv\\lib\\site-packages (2.3.1)\n",
      "Requirement already satisfied: numpy in c:\\users\\sivap\\onedrive\\документы\\codsoft\\movie prediction\\.venv\\lib\\site-packages (2.3.1)\n",
      "Collecting seaborn\n",
      "  Using cached seaborn-0.13.2-py3-none-any.whl.metadata (5.4 kB)\n",
      "Collecting matplotlib\n",
      "  Using cached matplotlib-3.10.3-cp313-cp313-win_amd64.whl.metadata (11 kB)\n",
      "Requirement already satisfied: scikit-learn in c:\\users\\sivap\\onedrive\\документы\\codsoft\\movie prediction\\.venv\\lib\\site-packages (1.7.0)\n",
      "Requirement already satisfied: python-dateutil>=2.8.2 in c:\\users\\sivap\\onedrive\\документы\\codsoft\\movie prediction\\.venv\\lib\\site-packages (from pandas) (2.9.0.post0)\n",
      "Requirement already satisfied: pytz>=2020.1 in c:\\users\\sivap\\onedrive\\документы\\codsoft\\movie prediction\\.venv\\lib\\site-packages (from pandas) (2025.2)\n",
      "Requirement already satisfied: tzdata>=2022.7 in c:\\users\\sivap\\onedrive\\документы\\codsoft\\movie prediction\\.venv\\lib\\site-packages (from pandas) (2025.2)\n",
      "Requirement already satisfied: contourpy>=1.0.1 in c:\\users\\sivap\\onedrive\\документы\\codsoft\\movie prediction\\.venv\\lib\\site-packages (from matplotlib) (1.3.2)\n",
      "Requirement already satisfied: cycler>=0.10 in c:\\users\\sivap\\onedrive\\документы\\codsoft\\movie prediction\\.venv\\lib\\site-packages (from matplotlib) (0.12.1)\n",
      "Requirement already satisfied: fonttools>=4.22.0 in c:\\users\\sivap\\onedrive\\документы\\codsoft\\movie prediction\\.venv\\lib\\site-packages (from matplotlib) (4.59.0)\n",
      "Requirement already satisfied: kiwisolver>=1.3.1 in c:\\users\\sivap\\onedrive\\документы\\codsoft\\movie prediction\\.venv\\lib\\site-packages (from matplotlib) (1.4.8)\n",
      "Requirement already satisfied: packaging>=20.0 in c:\\users\\sivap\\onedrive\\документы\\codsoft\\movie prediction\\.venv\\lib\\site-packages (from matplotlib) (25.0)\n",
      "Requirement already satisfied: pillow>=8 in c:\\users\\sivap\\onedrive\\документы\\codsoft\\movie prediction\\.venv\\lib\\site-packages (from matplotlib) (11.3.0)\n",
      "Requirement already satisfied: pyparsing>=2.3.1 in c:\\users\\sivap\\onedrive\\документы\\codsoft\\movie prediction\\.venv\\lib\\site-packages (from matplotlib) (3.2.3)\n",
      "Requirement already satisfied: scipy>=1.8.0 in c:\\users\\sivap\\onedrive\\документы\\codsoft\\movie prediction\\.venv\\lib\\site-packages (from scikit-learn) (1.16.0)\n",
      "Requirement already satisfied: joblib>=1.2.0 in c:\\users\\sivap\\onedrive\\документы\\codsoft\\movie prediction\\.venv\\lib\\site-packages (from scikit-learn) (1.5.1)\n",
      "Requirement already satisfied: threadpoolctl>=3.1.0 in c:\\users\\sivap\\onedrive\\документы\\codsoft\\movie prediction\\.venv\\lib\\site-packages (from scikit-learn) (3.6.0)\n",
      "Requirement already satisfied: six>=1.5 in c:\\users\\sivap\\onedrive\\документы\\codsoft\\movie prediction\\.venv\\lib\\site-packages (from python-dateutil>=2.8.2->pandas) (1.17.0)\n",
      "Using cached seaborn-0.13.2-py3-none-any.whl (294 kB)\n",
      "Using cached matplotlib-3.10.3-cp313-cp313-win_amd64.whl (8.1 MB)\n",
      "Installing collected packages: matplotlib, seaborn\n",
      "\n",
      "   ---------------------------------------- 0/2 [matplotlib]\n",
      "   ---------------------------------------- 0/2 [matplotlib]\n",
      "   ---------------------------------------- 0/2 [matplotlib]\n",
      "   ---------------------------------------- 0/2 [matplotlib]\n",
      "   ---------------------------------------- 0/2 [matplotlib]\n",
      "   ---------------------------------------- 0/2 [matplotlib]\n",
      "   ---------------------------------------- 0/2 [matplotlib]\n",
      "   ---------------------------------------- 0/2 [matplotlib]\n",
      "   ---------------------------------------- 0/2 [matplotlib]\n",
      "   ---------------------------------------- 0/2 [matplotlib]\n",
      "   ---------------------------------------- 0/2 [matplotlib]\n",
      "   ---------------------------------------- 0/2 [matplotlib]\n",
      "   ---------------------------------------- 0/2 [matplotlib]\n",
      "   ---------------------------------------- 0/2 [matplotlib]\n",
      "   ---------------------------------------- 0/2 [matplotlib]\n",
      "   ---------------------------------------- 0/2 [matplotlib]\n",
      "   ---------------------------------------- 0/2 [matplotlib]\n",
      "   ---------------------------------------- 0/2 [matplotlib]\n",
      "   ---------------------------------------- 0/2 [matplotlib]\n",
      "   ---------------------------------------- 0/2 [matplotlib]\n",
      "   ---------------------------------------- 0/2 [matplotlib]\n",
      "   ---------------------------------------- 0/2 [matplotlib]\n",
      "   ---------------------------------------- 0/2 [matplotlib]\n",
      "   ---------------------------------------- 0/2 [matplotlib]\n",
      "   ---------------------------------------- 0/2 [matplotlib]\n",
      "   ---------------------------------------- 0/2 [matplotlib]\n",
      "   ---------------------------------------- 0/2 [matplotlib]\n",
      "   ---------------------------------------- 0/2 [matplotlib]\n",
      "   ---------------------------------------- 0/2 [matplotlib]\n",
      "   ---------------------------------------- 0/2 [matplotlib]\n",
      "   ---------------------------------------- 0/2 [matplotlib]\n",
      "   ---------------------------------------- 0/2 [matplotlib]\n",
      "   ---------------------------------------- 0/2 [matplotlib]\n",
      "   ---------------------------------------- 0/2 [matplotlib]\n",
      "   ---------------------------------------- 0/2 [matplotlib]\n",
      "   ---------------------------------------- 0/2 [matplotlib]\n",
      "   ---------------------------------------- 0/2 [matplotlib]\n",
      "   ---------------------------------------- 0/2 [matplotlib]\n",
      "   ---------------------------------------- 0/2 [matplotlib]\n",
      "   ---------------------------------------- 0/2 [matplotlib]\n",
      "   ---------------------------------------- 0/2 [matplotlib]\n",
      "   ---------------------------------------- 0/2 [matplotlib]\n",
      "   ---------------------------------------- 0/2 [matplotlib]\n",
      "   ---------------------------------------- 0/2 [matplotlib]\n",
      "   ---------------------------------------- 0/2 [matplotlib]\n",
      "   ---------------------------------------- 0/2 [matplotlib]\n",
      "   ---------------------------------------- 0/2 [matplotlib]\n",
      "   ---------------------------------------- 0/2 [matplotlib]\n",
      "   ---------------------------------------- 0/2 [matplotlib]\n",
      "   ---------------------------------------- 0/2 [matplotlib]\n",
      "   ---------------------------------------- 0/2 [matplotlib]\n",
      "   ---------------------------------------- 0/2 [matplotlib]\n",
      "   ---------------------------------------- 0/2 [matplotlib]\n",
      "   ---------------------------------------- 0/2 [matplotlib]\n",
      "   ---------------------------------------- 0/2 [matplotlib]\n",
      "   ---------------------------------------- 0/2 [matplotlib]\n",
      "   ---------------------------------------- 0/2 [matplotlib]\n",
      "   ---------------------------------------- 0/2 [matplotlib]\n",
      "   ---------------------------------------- 0/2 [matplotlib]\n",
      "   ---------------------------------------- 0/2 [matplotlib]\n",
      "   ---------------------------------------- 0/2 [matplotlib]\n",
      "   ---------------------------------------- 0/2 [matplotlib]\n",
      "   ---------------------------------------- 0/2 [matplotlib]\n",
      "   ---------------------------------------- 0/2 [matplotlib]\n",
      "   ---------------------------------------- 0/2 [matplotlib]\n",
      "   ---------------------------------------- 0/2 [matplotlib]\n",
      "   ---------------------------------------- 0/2 [matplotlib]\n",
      "   ---------------------------------------- 0/2 [matplotlib]\n",
      "   ---------------------------------------- 0/2 [matplotlib]\n",
      "   ---------------------------------------- 0/2 [matplotlib]\n",
      "   ---------------------------------------- 0/2 [matplotlib]\n",
      "   ---------------------------------------- 0/2 [matplotlib]\n",
      "   ---------------------------------------- 0/2 [matplotlib]\n",
      "   ---------------------------------------- 0/2 [matplotlib]\n",
      "   ---------------------------------------- 0/2 [matplotlib]\n",
      "   ---------------------------------------- 0/2 [matplotlib]\n",
      "   ---------------------------------------- 0/2 [matplotlib]\n",
      "   ---------------------------------------- 0/2 [matplotlib]\n",
      "   ---------------------------------------- 0/2 [matplotlib]\n",
      "   ---------------------------------------- 0/2 [matplotlib]\n",
      "   ---------------------------------------- 0/2 [matplotlib]\n",
      "   ---------------------------------------- 0/2 [matplotlib]\n",
      "   ---------------------------------------- 0/2 [matplotlib]\n",
      "   ---------------------------------------- 0/2 [matplotlib]\n",
      "   ---------------------------------------- 0/2 [matplotlib]\n",
      "   ---------------------------------------- 0/2 [matplotlib]\n",
      "   ---------------------------------------- 0/2 [matplotlib]\n",
      "   ---------------------------------------- 0/2 [matplotlib]\n",
      "   ---------------------------------------- 0/2 [matplotlib]\n",
      "   ---------------------------------------- 0/2 [matplotlib]\n",
      "   ---------------------------------------- 0/2 [matplotlib]\n",
      "   ---------------------------------------- 0/2 [matplotlib]\n",
      "   ---------------------------------------- 0/2 [matplotlib]\n",
      "   ---------------------------------------- 0/2 [matplotlib]\n",
      "   ---------------------------------------- 0/2 [matplotlib]\n",
      "   ---------------------------------------- 0/2 [matplotlib]\n",
      "   ---------------------------------------- 0/2 [matplotlib]\n",
      "   -------------------- ------------------- 1/2 [seaborn]\n",
      "   -------------------- ------------------- 1/2 [seaborn]\n",
      "   -------------------- ------------------- 1/2 [seaborn]\n",
      "   -------------------- ------------------- 1/2 [seaborn]\n",
      "   -------------------- ------------------- 1/2 [seaborn]\n",
      "   -------------------- ------------------- 1/2 [seaborn]\n",
      "   -------------------- ------------------- 1/2 [seaborn]\n",
      "   -------------------- ------------------- 1/2 [seaborn]\n",
      "   -------------------- ------------------- 1/2 [seaborn]\n",
      "   -------------------- ------------------- 1/2 [seaborn]\n",
      "   -------------------- ------------------- 1/2 [seaborn]\n",
      "   -------------------- ------------------- 1/2 [seaborn]\n",
      "   -------------------- ------------------- 1/2 [seaborn]\n",
      "   -------------------- ------------------- 1/2 [seaborn]\n",
      "   -------------------- ------------------- 1/2 [seaborn]\n",
      "   -------------------- ------------------- 1/2 [seaborn]\n",
      "   -------------------- ------------------- 1/2 [seaborn]\n",
      "   -------------------- ------------------- 1/2 [seaborn]\n",
      "   ---------------------------------------- 2/2 [seaborn]\n",
      "\n",
      "Successfully installed matplotlib-3.10.3 seaborn-0.13.2\n"
     ]
    }
   ],
   "source": [
    "!pip install pandas numpy seaborn matplotlib scikit-learn\n"
   ]
  },
  {
   "cell_type": "code",
   "execution_count": 2,
   "id": "9c3545de",
   "metadata": {},
   "outputs": [],
   "source": [
    "import pandas as pd\n"
   ]
  },
  {
   "cell_type": "code",
   "execution_count": 3,
   "id": "26634a59",
   "metadata": {},
   "outputs": [],
   "source": [
    "import pandas as pd\n",
    "import numpy as np\n",
    "import seaborn as sns\n",
    "import matplotlib.pyplot as plt\n",
    "from sklearn.model_selection import train_test_split\n",
    "from sklearn.preprocessing import LabelEncoder\n",
    "from sklearn.linear_model import LinearRegression\n",
    "from sklearn.metrics import mean_squared_error, r2_score\n"
   ]
  },
  {
   "cell_type": "code",
   "execution_count": 12,
   "id": "e52aa9a5",
   "metadata": {},
   "outputs": [],
   "source": [
    "data = pd.read_csv('imdb_india_movies.csv', encoding='latin-1')\n"
   ]
  },
  {
   "cell_type": "code",
   "execution_count": 11,
   "id": "75928c59",
   "metadata": {},
   "outputs": [
    {
     "name": "stdout",
     "output_type": "stream",
     "text": [
      "                                 Name    Year Duration            Genre  \\\n",
      "0                                         NaN      NaN            Drama   \n",
      "1  #Gadhvi (He thought he was Gandhi)  (2019)  109 min            Drama   \n",
      "2                         #Homecoming  (2021)   90 min   Drama, Musical   \n",
      "3                             #Yaaram  (2019)  110 min  Comedy, Romance   \n",
      "4                   ...And Once Again  (2010)  105 min            Drama   \n",
      "\n",
      "   Rating Votes            Director       Actor 1             Actor 2  \\\n",
      "0     NaN   NaN       J.S. Randhawa      Manmauji              Birbal   \n",
      "1     7.0     8       Gaurav Bakshi  Rasika Dugal      Vivek Ghamande   \n",
      "2     NaN   NaN  Soumyajit Majumdar  Sayani Gupta   Plabita Borthakur   \n",
      "3     4.4    35          Ovais Khan       Prateik          Ishita Raj   \n",
      "4     NaN   NaN        Amol Palekar  Rajat Kapoor  Rituparna Sengupta   \n",
      "\n",
      "           Actor 3  \n",
      "0  Rajendra Bhatia  \n",
      "1    Arvind Jangid  \n",
      "2       Roy Angana  \n",
      "3  Siddhant Kapoor  \n",
      "4      Antara Mali  \n",
      "Index(['Name', 'Year', 'Duration', 'Genre', 'Rating', 'Votes', 'Director',\n",
      "       'Actor 1', 'Actor 2', 'Actor 3'],\n",
      "      dtype='object')\n"
     ]
    }
   ],
   "source": [
    "print(data.head())\n",
    "print(data.columns)\n"
   ]
  },
  {
   "cell_type": "code",
   "execution_count": 10,
   "id": "b34a64b8",
   "metadata": {},
   "outputs": [
    {
     "name": "stdout",
     "output_type": "stream",
     "text": [
      "                                 Name    Year Duration            Genre  \\\n",
      "0                                         NaN      NaN            Drama   \n",
      "1  #Gadhvi (He thought he was Gandhi)  (2019)  109 min            Drama   \n",
      "2                         #Homecoming  (2021)   90 min   Drama, Musical   \n",
      "3                             #Yaaram  (2019)  110 min  Comedy, Romance   \n",
      "4                   ...And Once Again  (2010)  105 min            Drama   \n",
      "\n",
      "   Rating Votes            Director       Actor 1             Actor 2  \\\n",
      "0     NaN   NaN       J.S. Randhawa      Manmauji              Birbal   \n",
      "1     7.0     8       Gaurav Bakshi  Rasika Dugal      Vivek Ghamande   \n",
      "2     NaN   NaN  Soumyajit Majumdar  Sayani Gupta   Plabita Borthakur   \n",
      "3     4.4    35          Ovais Khan       Prateik          Ishita Raj   \n",
      "4     NaN   NaN        Amol Palekar  Rajat Kapoor  Rituparna Sengupta   \n",
      "\n",
      "           Actor 3  \n",
      "0  Rajendra Bhatia  \n",
      "1    Arvind Jangid  \n",
      "2       Roy Angana  \n",
      "3  Siddhant Kapoor  \n",
      "4      Antara Mali  \n",
      "Index(['Name', 'Year', 'Duration', 'Genre', 'Rating', 'Votes', 'Director',\n",
      "       'Actor 1', 'Actor 2', 'Actor 3'],\n",
      "      dtype='object')\n"
     ]
    }
   ],
   "source": [
    "import pandas as pd\n",
    "\n",
    "\n",
    "data = pd.read_csv('imdb_india_movies.csv', encoding='latin-1')\n",
    "\n",
    "\n",
    "print(data.head())\n",
    "print(data.columns)\n"
   ]
  },
  {
   "cell_type": "code",
   "execution_count": 13,
   "id": "e000e51a",
   "metadata": {},
   "outputs": [
    {
     "name": "stdout",
     "output_type": "stream",
     "text": [
      "Index(['Name', 'Year', 'Duration', 'Genre', 'Rating', 'Votes', 'Director',\n",
      "       'Actor 1', 'Actor 2', 'Actor 3'],\n",
      "      dtype='object')\n"
     ]
    }
   ],
   "source": [
    "print(data.columns)\n"
   ]
  },
  {
   "cell_type": "code",
   "execution_count": 8,
   "id": "41e2bf84",
   "metadata": {},
   "outputs": [],
   "source": [
    "target_column = 'Rating'  \n"
   ]
  },
  {
   "cell_type": "code",
   "execution_count": 14,
   "id": "98499b7f",
   "metadata": {},
   "outputs": [],
   "source": [
    "data = data.dropna(subset=[target_column])\n",
    "y = data[target_column]\n"
   ]
  },
  {
   "cell_type": "code",
   "execution_count": 15,
   "id": "d031c819",
   "metadata": {},
   "outputs": [
    {
     "name": "stdout",
     "output_type": "stream",
     "text": [
      "Target column detected: Rating\n"
     ]
    }
   ],
   "source": [
    "\n",
    "for col in ['IMDB_Rating', 'Rating', 'imdb_rating']:\n",
    "    if col in data.columns:\n",
    "        target_column = col\n",
    "        break\n",
    "else:\n",
    "    raise ValueError(\"Target column (IMDB rating) not found in dataset!\")\n",
    "\n",
    "print(f\"Target column detected: {target_column}\")\n",
    "\n",
    "data = data.dropna(subset=[target_column])\n"
   ]
  },
  {
   "cell_type": "code",
   "execution_count": 27,
   "id": "3b19ef5d",
   "metadata": {},
   "outputs": [],
   "source": [
    "import pandas as pd\n",
    "import numpy as np\n",
    "import seaborn as sns\n",
    "import matplotlib.pyplot as plt\n",
    "from sklearn.model_selection import train_test_split\n",
    "from sklearn.preprocessing import LabelEncoder\n",
    "from sklearn.linear_model import LinearRegression\n",
    "from sklearn.metrics import mean_squared_error, r2_score"
   ]
  },
  {
   "cell_type": "code",
   "execution_count": 16,
   "id": "7e61187f",
   "metadata": {},
   "outputs": [
    {
     "name": "stdout",
     "output_type": "stream",
     "text": [
      "\n",
      " Dataset Loaded Successfully!\n",
      "Columns in Dataset: ['Name', 'Year', 'Duration', 'Genre', 'Rating', 'Votes', 'Director', 'Actor 1', 'Actor 2', 'Actor 3']\n",
      "First 5 rows:\n",
      "                                  Name    Year Duration            Genre  \\\n",
      "0                                         NaN      NaN            Drama   \n",
      "1  #Gadhvi (He thought he was Gandhi)  (2019)  109 min            Drama   \n",
      "2                         #Homecoming  (2021)   90 min   Drama, Musical   \n",
      "3                             #Yaaram  (2019)  110 min  Comedy, Romance   \n",
      "4                   ...And Once Again  (2010)  105 min            Drama   \n",
      "\n",
      "   Rating Votes            Director       Actor 1             Actor 2  \\\n",
      "0     NaN   NaN       J.S. Randhawa      Manmauji              Birbal   \n",
      "1     7.0     8       Gaurav Bakshi  Rasika Dugal      Vivek Ghamande   \n",
      "2     NaN   NaN  Soumyajit Majumdar  Sayani Gupta   Plabita Borthakur   \n",
      "3     4.4    35          Ovais Khan       Prateik          Ishita Raj   \n",
      "4     NaN   NaN        Amol Palekar  Rajat Kapoor  Rituparna Sengupta   \n",
      "\n",
      "           Actor 3  \n",
      "0  Rajendra Bhatia  \n",
      "1    Arvind Jangid  \n",
      "2       Roy Angana  \n",
      "3  Siddhant Kapoor  \n",
      "4      Antara Mali  \n"
     ]
    }
   ],
   "source": [
    "file_path = 'imdb_india_movies.csv'  \n",
    "data = pd.read_csv(file_path, encoding='latin-1', on_bad_lines='skip')\n",
    "\n",
    "\n",
    "print(\"\\n Dataset Loaded Successfully!\")\n",
    "print(\"Columns in Dataset:\", data.columns.tolist())\n",
    "print(\"First 5 rows:\\n\", data.head())"
   ]
  },
  {
   "cell_type": "code",
   "execution_count": 17,
   "id": "296eca51",
   "metadata": {},
   "outputs": [
    {
     "name": "stdout",
     "output_type": "stream",
     "text": [
      "\n",
      " Target Column Detected: Rating\n"
     ]
    }
   ],
   "source": [
    "target_column = None\n",
    "for col in ['IMDB_Rating', 'Rating', 'imdb_rating']:\n",
    "    if col in data.columns:\n",
    "        target_column = col\n",
    "        break\n",
    "\n",
    "if not target_column:\n",
    "    raise ValueError(\"Target column (IMDB rating) not found in dataset!\")\n",
    "\n",
    "print(f\"\\n Target Column Detected: {target_column}\")"
   ]
  },
  {
   "cell_type": "code",
   "execution_count": 20,
   "id": "6ab667a7",
   "metadata": {},
   "outputs": [],
   "source": [
    "columns_to_drop = ['Name', 'Director', 'Actors']\n",
    "data.drop([col for col in columns_to_drop if col in data.columns], axis=1, inplace=True)"
   ]
  },
  {
   "cell_type": "code",
   "execution_count": 21,
   "id": "94e4dd9e",
   "metadata": {},
   "outputs": [],
   "source": [
    "data = data.dropna(subset=[target_column])\n",
    "\n",
    "data.fillna(data.median(numeric_only=True), inplace=True)"
   ]
  },
  {
   "cell_type": "code",
   "execution_count": 28,
   "id": "12566a0b",
   "metadata": {},
   "outputs": [
    {
     "name": "stdout",
     "output_type": "stream",
     "text": [
      "Encoding Categorical Columns: ['Year', 'Duration', 'Genre', 'Votes', 'Actor 1', 'Actor 2', 'Actor 3']\n"
     ]
    }
   ],
   "source": [
    "categorical_cols = data.select_dtypes(include=['object']).columns\n",
    "if len(categorical_cols) > 0:\n",
    "    print(f\"Encoding Categorical Columns: {list(categorical_cols)}\")\n",
    "    le = LabelEncoder()\n",
    "    for col in categorical_cols:\n",
    "        data[col] = le.fit_transform(data[col].astype(str))"
   ]
  },
  {
   "cell_type": "code",
   "execution_count": 29,
   "id": "2254a7ea",
   "metadata": {},
   "outputs": [
    {
     "name": "stdout",
     "output_type": "stream",
     "text": [
      "\n",
      " Features used: ['Year', 'Duration', 'Genre', 'Votes', 'Actor 1', 'Actor 2', 'Actor 3']\n"
     ]
    }
   ],
   "source": [
    "X = data.drop(columns=[target_column])\n",
    "y = data[target_column]\n",
    "\n",
    "print(\"\\n Features used:\", X.columns.tolist())\n",
    "\n",
    "X_train, X_test, y_train, y_test = train_test_split(X, y, test_size=0.2, random_state=42)"
   ]
  },
  {
   "cell_type": "code",
   "execution_count": 30,
   "id": "decacc51",
   "metadata": {},
   "outputs": [],
   "source": [
    "model = LinearRegression()\n",
    "model.fit(X_train, y_train)\n",
    "\n",
    "y_pred = model.predict(X_test)\n"
   ]
  },
  {
   "cell_type": "code",
   "execution_count": 31,
   "id": "2fa99817",
   "metadata": {},
   "outputs": [
    {
     "name": "stdout",
     "output_type": "stream",
     "text": [
      "\n",
      "  Model Evaluation:\n",
      "Root Mean Squared Error: 1.317008955203458\n",
      "R² Score: 0.06703755926950283\n"
     ]
    }
   ],
   "source": [
    "mse = mean_squared_error(y_test, y_pred)\n",
    "rmse = np.sqrt(mse)\n",
    "r2 = r2_score(y_test, y_pred)\n",
    "\n",
    "print(\"\\n  Model Evaluation:\")\n",
    "print(f\"Root Mean Squared Error: {rmse}\")\n",
    "print(f\"R² Score: {r2}\")"
   ]
  },
  {
   "cell_type": "code",
   "execution_count": 32,
   "id": "6a7bfd7f",
   "metadata": {},
   "outputs": [
    {
     "data": {
      "image/png": "[encoded data removed]",
      "text/plain": [
       "<Figure size 800x600 with 1 Axes>"
      ]
     },
     "metadata": {},
     "output_type": "display_data"
    }
   ],
   "source": [
    "plt.figure(figsize=(8, 6))\n",
    "sns.scatterplot(x=y_test, y=y_pred, color='blue')\n",
    "plt.xlabel(\"Actual IMDb Ratings\")\n",
    "plt.ylabel(\"Predicted IMDb Ratings\")\n",
    "plt.title(\"Actual vs Predicted Movie Ratings\")\n",
    "plt.show()"
   ]
  }
 ],
 "metadata": {
  "kernelspec": {
   "display_name": "Python 3",
   "language": "python",
   "name": "python3"
  },
  "language_info": {
   "codemirror_mode": {
    "name": "ipython",
    "version": 3
   },
   "file_extension": ".py",
   "mimetype": "text/x-python",
   "name": "python",
   "nbconvert_exporter": "python",
   "pygments_lexer": "ipython3",
   "version": "3.13.0"
  }
 },
 "nbformat": 4,
 "nbformat_minor": 5
}
